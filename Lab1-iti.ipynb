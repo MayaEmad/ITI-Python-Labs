{
 "cells": [
  {
   "cell_type": "code",
   "execution_count": 1,
   "id": "5042f9d0",
   "metadata": {},
   "outputs": [],
   "source": [
    "msg = \"Hello!\""
   ]
  },
  {
   "cell_type": "code",
   "execution_count": 19,
   "id": "7e7c55e4",
   "metadata": {},
   "outputs": [
    {
     "name": "stdout",
     "output_type": "stream",
     "text": [
      "Hello!\n"
     ]
    }
   ],
   "source": [
    "print(msg)"
   ]
  },
  {
   "cell_type": "code",
   "execution_count": 4,
   "id": "e2f7795c",
   "metadata": {},
   "outputs": [
    {
     "name": "stdout",
     "output_type": "stream",
     "text": [
      "2\n"
     ]
    }
   ],
   "source": [
    "fav_num = 2\n",
    "print(f\"My Favourite Number is: {fav_num}\")"
   ]
  },
  {
   "cell_type": "code",
   "execution_count": 21,
   "id": "78c61f10",
   "metadata": {},
   "outputs": [],
   "source": [
    "pi = 22/7\n",
    "radius_ = 5  #radius in cm\n",
    "volume_ = 4/3 * pi * radius_**3  #volume in cubic cm"
   ]
  },
  {
   "cell_type": "code",
   "execution_count": 22,
   "id": "cf5e9ac6",
   "metadata": {},
   "outputs": [
    {
     "name": "stdout",
     "output_type": "stream",
     "text": [
      "the volume of the sphere is: 523.8095238095237\n"
     ]
    }
   ],
   "source": [
    "print(f\"the volume of the sphere is: {volume_}\")"
   ]
  },
  {
   "cell_type": "code",
   "execution_count": 24,
   "id": "1ec85e35",
   "metadata": {},
   "outputs": [
    {
     "name": "stdout",
     "output_type": "stream",
     "text": [
      "x + y = 42\n",
      "x - y = 12\n",
      "x * y = 405\n",
      "x / y = 1.8\n"
     ]
    }
   ],
   "source": [
    "x = 27 \n",
    "y = 15 \n",
    "print(f\"x + y = {x + y}\")\n",
    "print(f\"x - y = {x - y}\")\n",
    "print(f\"x * y = {x * y}\")\n",
    "print(f\"x / y = {x / y}\")"
   ]
  },
  {
   "cell_type": "code",
   "execution_count": 18,
   "id": "e0fe7c74",
   "metadata": {},
   "outputs": [
    {
     "name": "stdout",
     "output_type": "stream",
     "text": [
      "Enter a number of days: 1\n",
      "the number of seconds in the number of days given is: 86400\n"
     ]
    }
   ],
   "source": [
    "days_num = input(\"Enter a number of days: \")\n",
    "seconds = int(days_num) * 24 * 60 * 60     \n",
    "print(f\"the number of seconds in the number of days given is: {seconds}\")"
   ]
  },
  {
   "cell_type": "code",
   "execution_count": null,
   "id": "0b7f1401",
   "metadata": {},
   "outputs": [],
   "source": []
  }
 ],
 "metadata": {
  "kernelspec": {
   "display_name": "Python 3 (ipykernel)",
   "language": "python",
   "name": "python3"
  },
  "language_info": {
   "codemirror_mode": {
    "name": "ipython",
    "version": 3
   },
   "file_extension": ".py",
   "mimetype": "text/x-python",
   "name": "python",
   "nbconvert_exporter": "python",
   "pygments_lexer": "ipython3",
   "version": "3.9.13"
  }
 },
 "nbformat": 4,
 "nbformat_minor": 5
}

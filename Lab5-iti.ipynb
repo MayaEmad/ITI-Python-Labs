{
 "cells": [
  {
   "cell_type": "code",
   "execution_count": 3,
   "id": "618e92ee",
   "metadata": {},
   "outputs": [
    {
     "name": "stdout",
     "output_type": "stream",
     "text": [
      "Enter file nametext.txt\n",
      "Error: File text.txt not found.\n",
      "Would you like to try again? (yes/no): no\n"
     ]
    }
   ],
   "source": [
    "from pathlib import Path\n",
    "while True:\n",
    "    file_name = input(\"Enter file name\")\n",
    "    path = Path(file_name)\n",
    "    try:\n",
    "        contents = path.read_text()\n",
    "    except FileNotFoundError:\n",
    "        print(f\"Error: File '{file_name}' not found.\")\n",
    "        try_again = input(\"Would you like to try again? (yes/no): \")\n",
    "        if try_again == \"no\":\n",
    "            break\n",
    "    else:\n",
    "        print(contents)\n",
    "        break"
   ]
  },
  {
   "cell_type": "code",
   "execution_count": 6,
   "id": "e0ae4f21",
   "metadata": {
    "scrolled": true
   },
   "outputs": [
    {
     "name": "stdout",
     "output_type": "stream",
     "text": [
      "Enter file name: tete.txt\n",
      "Enter a text: jkdjfs\n",
      "Permission denied to write to tete.txt\n"
     ]
    }
   ],
   "source": [
    "from pathlib import Path\n",
    "try:\n",
    "    file_name = input(\"Enter file name: \")\n",
    "    text = input(\"Enter a text: \")\n",
    "    path = Path(file_name)\n",
    "    path.write_text(text)\n",
    "except PermissionError:\n",
    "    print(f\"Permission denied to write to {file_name}\")\n",
    "else:\n",
    "    print(f\"Data saved successfully to {file_name}.\\nContents of {file_name}:\\n{text}\")"
   ]
  },
  {
   "cell_type": "code",
   "execution_count": 7,
   "id": "8b883603",
   "metadata": {},
   "outputs": [
    {
     "name": "stdout",
     "output_type": "stream",
     "text": [
      "Data saved successfully to data.json.\n",
      "Contents of data.json is: \n",
      "{\"name\": \"Alice\", \"age\": 25, \"city\": \"New York\"}\n"
     ]
    }
   ],
   "source": [
    "import json\n",
    "data = {\"name\": \"Alice\",\"age\": 25,\"city\": \"New York\"}\n",
    "path = Path(\"data.json\")\n",
    "try:\n",
    "    contents = json.dumps(data)\n",
    "    path.write_text(contents)\n",
    "except IOError:\n",
    "    print(\"there is an error writing to the file.\")\n",
    "else:\n",
    "    print(f\"Data saved successfully to data.json.\\nContents of {path} is: \\n{contents}\")"
   ]
  },
  {
   "cell_type": "code",
   "execution_count": 8,
   "id": "106130d4",
   "metadata": {},
   "outputs": [],
   "source": [
    "from pathlib import Path\n",
    "def file_read(file_name):\n",
    "    while True:\n",
    "        path = Path(file_name)\n",
    "        try:\n",
    "            contents = path.read_text()\n",
    "        except FileNotFoundError:\n",
    "            print(f\"Error: File '{file_name}' not found.\")\n",
    "            try_again = input(\"Would you like to try again? (yes/no): \")\n",
    "            if try_again == \"no\":\n",
    "                break\n",
    "        else:\n",
    "            print(contents)\n",
    "            break"
   ]
  },
  {
   "cell_type": "code",
   "execution_count": 9,
   "id": "24f9bdc9",
   "metadata": {},
   "outputs": [],
   "source": [
    "def file_write(file_name):\n",
    "    try:\n",
    "        file_name = input(\"Enter file name: \")\n",
    "        text = input(\"Enter a text: \")\n",
    "        path = Path(file_name)\n",
    "        path.write_text(text)\n",
    "    except PermissionError:\n",
    "        print(f\"Permission denied to write to {file_name}\")\n",
    "    else:\n",
    "        print(f\"Data saved successfully to {file_name}.\\nContents of {file_name}:\\n{text}\")"
   ]
  },
  {
   "cell_type": "code",
   "execution_count": null,
   "id": "7a215889",
   "metadata": {},
   "outputs": [],
   "source": [
    "def save_json(data):\n",
    "    path = Path(\"data.json\")\n",
    "    try:\n",
    "        contents = json.dumps(data)\n",
    "        path.write_text(contents)\n",
    "    except IOError:\n",
    "        print(\"there is an error writing to the file.\")\n",
    "    else:\n",
    "        print(f\"Data saved successfully to data.json.\\nContents of {path} is: \\n{contents}\")"
   ]
  },
  {
   "cell_type": "code",
   "execution_count": null,
   "id": "4b9c6c0f",
   "metadata": {},
   "outputs": [],
   "source": [
    "while True:\n",
    "    prompt = \"Main Menu:\\n\"\n",
    "    prompt += \"1. Read a file\\n\"\n",
    "    prompt += \"2. Write to a file\\n\" \n",
    "    prompt += \"3. Save data to JSON\\n\"\n",
    "    prompt += \"4. Exit\\n\"\n",
    "    prompt += \"Choose an option: \"\n",
    "\n",
    "    option = input(prompt)\n",
    "\n",
    "    if option == \"1\":\n",
    "        file_name = input(\"Enter file name to read: \")\n",
    "        file_read(file_name)\n",
    "    elif option == \"2\":\n",
    "        file_name = input(\"Enter file name to write: \")\n",
    "        file_write(file_name)\n",
    "    elif option == \"3\":\n",
    "        data = input(\"Enter the data to be saved!: \")\n",
    "        save_json(data)\n",
    "    elif option == \"4\":\n",
    "        print(\"Goodbye!\")\n",
    "        break\n",
    "    else:\n",
    "        print(\"Wrong Option!\\nTry again\")"
   ]
  },
  {
   "cell_type": "code",
   "execution_count": null,
   "id": "17784e8a",
   "metadata": {},
   "outputs": [],
   "source": [
    "def validate_name(name):\n",
    "    if name.replace(\" \",\"\").isalpha():\n",
    "        print(f\"Name: {name}\")\n",
    "    else:\n",
    "        print(\"Wrong Name!\\nTry Again\")"
   ]
  },
  {
   "cell_type": "code",
   "execution_count": null,
   "id": "e358e1da",
   "metadata": {},
   "outputs": [],
   "source": [
    "def validate_email(e_mail):\n",
    "    if e_mail.find(\"@\") > 0 and e_mail.find(\".\") > 0:\n",
    "        print(f\"Email: {e_mail}\")\n",
    "    else:\n",
    "        print(f\"Email not in the right format\")"
   ]
  },
  {
   "cell_type": "code",
   "execution_count": null,
   "id": "765463e7",
   "metadata": {},
   "outputs": [],
   "source": [
    "def validate_age(age):\n",
    "    try:\n",
    "        age = int(input(\"Enter your age: \"))\n",
    "    except ValueError:\n",
    "        output_age = \"Age must be a valid integer\"\n",
    "    else:\n",
    "        if age > 0:\n",
    "            output_age = f\"Age: {age}\"\n",
    "        else:\n",
    "            output_age = \"Age must be a positive integer\" \n"
   ]
  },
  {
   "cell_type": "code",
   "execution_count": 12,
   "id": "fdf06e76",
   "metadata": {},
   "outputs": [
    {
     "name": "stdout",
     "output_type": "stream",
     "text": [
      "Enter your name: maya\n",
      "Enter your age: -23\n",
      "Enter your e-mail: jldkdl\n",
      "Name: maya\n",
      "Age must be a positive integer\n",
      "Email not in the right format\n"
     ]
    }
   ],
   "source": [
    "name = input(\"Enter your name: \")\n",
    "try:\n",
    "    age = int(input(\"Enter your age: \"))\n",
    "except ValueError:\n",
    "    output_age = \"Age must be a valid integer\"\n",
    "else:\n",
    "    if age > 0:\n",
    "        output_age = f\"Age: {age}\"\n",
    "    else:\n",
    "        output_age = \"Age must be a positive integer\" \n",
    "\n",
    "e_mail = input(\"Enter your e-mail: \")\n",
    "\n",
    "    \n",
    "if name.replace(\" \",\"\").isalpha():\n",
    "    print(f\"Name: {name}\")\n",
    "else:\n",
    "    print(\"Wrong Name!\\nTry Again\")\n",
    "    \n",
    "print(output_age)\n",
    "\n",
    "if e_mail.find(\"@\") > 0 and e_mail.find(\".\") > 0:\n",
    "    print(f\"Email: {e_mail}\")\n",
    "else:\n",
    "    print(f\"Email not in the right format\")\n"
   ]
  },
  {
   "cell_type": "code",
   "execution_count": 64,
   "id": "13e6ad03",
   "metadata": {},
   "outputs": [
    {
     "name": "stdout",
     "output_type": "stream",
     "text": [
      "Enter your name: maya\n",
      "Enter your age: -20\n",
      "Enter your city: \n",
      "Data saved successfully to data.json.\n",
      "Contents of data.json is: \n",
      "{\"name\": \"maya\"}\n"
     ]
    }
   ],
   "source": [
    "import json\n",
    "data = {}\n",
    "data_name = input(\"Enter your name: \")\n",
    "data_age = input(\"Enter your age: \")\n",
    "data_city = input(\"Enter your city: \")\n",
    "\n",
    "if data_name.replace(\" \",\"\").isalpha():\n",
    "    data[\"name\"] = data_name\n",
    "if int(data_age) > 0:\n",
    "    data[\"age\"] = data_age\n",
    "if (data_city.replace(\" \",\"\").isalpha()) and (len(data_city) > 0):\n",
    "    data[\"city\"] = data_city\n",
    "\n",
    "path = Path(\"data.json\")\n",
    "try:\n",
    "    contents = json.dumps(data)\n",
    "except IOError:\n",
    "    print(\"there is an error writing to the file.\")\n",
    "else:\n",
    "    print(f\"Data saved successfully to data.json.\\nContents of {path} is: \\n{contents}\")"
   ]
  },
  {
   "cell_type": "code",
   "execution_count": null,
   "id": "26f3d0b4",
   "metadata": {},
   "outputs": [],
   "source": []
  },
  {
   "cell_type": "code",
   "execution_count": null,
   "id": "ea941417",
   "metadata": {},
   "outputs": [],
   "source": []
  },
  {
   "cell_type": "code",
   "execution_count": null,
   "id": "0fe5d201",
   "metadata": {},
   "outputs": [],
   "source": []
  }
 ],
 "metadata": {
  "kernelspec": {
   "display_name": "Python 3 (ipykernel)",
   "language": "python",
   "name": "python3"
  },
  "language_info": {
   "codemirror_mode": {
    "name": "ipython",
    "version": 3
   },
   "file_extension": ".py",
   "mimetype": "text/x-python",
   "name": "python",
   "nbconvert_exporter": "python",
   "pygments_lexer": "ipython3",
   "version": "3.9.13"
  }
 },
 "nbformat": 4,
 "nbformat_minor": 5
}

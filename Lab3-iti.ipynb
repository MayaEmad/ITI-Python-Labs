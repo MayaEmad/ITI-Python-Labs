{
 "cells": [
  {
   "cell_type": "code",
   "execution_count": 5,
   "id": "1a830db3",
   "metadata": {},
   "outputs": [],
   "source": [
    "def triangle(length):\n",
    "    for i in range(1,length+1):\n",
    "        print(i*\"#\")"
   ]
  },
  {
   "cell_type": "code",
   "execution_count": 6,
   "id": "0c71f193",
   "metadata": {
    "scrolled": true
   },
   "outputs": [
    {
     "name": "stdout",
     "output_type": "stream",
     "text": [
      "#\n",
      "##\n",
      "###\n"
     ]
    }
   ],
   "source": [
    "triangle(3)"
   ]
  },
  {
   "cell_type": "markdown",
   "id": "5ad1e6bd",
   "metadata": {},
   "source": []
  },
  {
   "cell_type": "code",
   "execution_count": 8,
   "id": "bac1a330",
   "metadata": {},
   "outputs": [
    {
     "name": "stdout",
     "output_type": "stream",
     "text": [
      "#\n",
      "##\n",
      "###\n",
      "####\n",
      "#####\n",
      "######\n"
     ]
    }
   ],
   "source": [
    "triangle(6)"
   ]
  },
  {
   "cell_type": "code",
   "execution_count": 66,
   "id": "46d1dc00",
   "metadata": {},
   "outputs": [],
   "source": [
    "def greatest_number_method_1(num1,num2,num3):\n",
    "    if (num1 > num2) and (num1 > num3):\n",
    "        return num1\n",
    "    elif (num2 > num1) and (num2 > num3):\n",
    "        return num2\n",
    "    else:\n",
    "        return num3"
   ]
  },
  {
   "cell_type": "code",
   "execution_count": 67,
   "id": "6935d6cb",
   "metadata": {},
   "outputs": [
    {
     "name": "stdout",
     "output_type": "stream",
     "text": [
      "4\n"
     ]
    }
   ],
   "source": [
    "print(greatest_number_method_1(3, 4, 1)) "
   ]
  },
  {
   "cell_type": "code",
   "execution_count": 68,
   "id": "3a75c166",
   "metadata": {},
   "outputs": [
    {
     "name": "stdout",
     "output_type": "stream",
     "text": [
      "99\n"
     ]
    }
   ],
   "source": [
    "print(greatest_number_method_1(99, -4, 7))"
   ]
  },
  {
   "cell_type": "code",
   "execution_count": 69,
   "id": "99d19424",
   "metadata": {},
   "outputs": [
    {
     "name": "stdout",
     "output_type": "stream",
     "text": [
      "0\n"
     ]
    }
   ],
   "source": [
    "print(greatest_number_method_1(0, 0, 0))"
   ]
  },
  {
   "cell_type": "code",
   "execution_count": 77,
   "id": "503d7a2a",
   "metadata": {},
   "outputs": [
    {
     "name": "stdout",
     "output_type": "stream",
     "text": [
      "4\n"
     ]
    }
   ],
   "source": [
    "print(greatest_number_method_1(4, 4, 4))"
   ]
  },
  {
   "cell_type": "code",
   "execution_count": 89,
   "id": "fc0100f8",
   "metadata": {},
   "outputs": [],
   "source": [
    "def greatest_number_method_2(num1,num2,num3):\n",
    "    if num2**2 + num3**2 <= num1**2 and num1 > 0:\n",
    "        return num1\n",
    "    elif num1**2 + num3**2 <= num2**2 and num2 > 0:\n",
    "        return num2\n",
    "    else:\n",
    "        return num3"
   ]
  },
  {
   "cell_type": "code",
   "execution_count": 90,
   "id": "f00a0d96",
   "metadata": {},
   "outputs": [
    {
     "data": {
      "text/plain": [
       "4"
      ]
     },
     "execution_count": 90,
     "metadata": {},
     "output_type": "execute_result"
    }
   ],
   "source": [
    "greatest_number_method_2(3, 4, 1)"
   ]
  },
  {
   "cell_type": "code",
   "execution_count": 91,
   "id": "da64d91b",
   "metadata": {},
   "outputs": [
    {
     "name": "stdout",
     "output_type": "stream",
     "text": [
      "99\n"
     ]
    }
   ],
   "source": [
    "print(greatest_number_method_2(99, -4, 7))"
   ]
  },
  {
   "cell_type": "code",
   "execution_count": 92,
   "id": "31590897",
   "metadata": {},
   "outputs": [
    {
     "name": "stdout",
     "output_type": "stream",
     "text": [
      "0\n"
     ]
    }
   ],
   "source": [
    "print(greatest_number_method_2(0, 0, 0))"
   ]
  },
  {
   "cell_type": "code",
   "execution_count": 93,
   "id": "9c6f4071",
   "metadata": {},
   "outputs": [
    {
     "name": "stdout",
     "output_type": "stream",
     "text": [
      "4\n"
     ]
    }
   ],
   "source": [
    "print(greatest_number_method_2(4, 4, 4))"
   ]
  },
  {
   "cell_type": "code",
   "execution_count": 94,
   "id": "c5b33512",
   "metadata": {},
   "outputs": [
    {
     "name": "stdout",
     "output_type": "stream",
     "text": [
      "4\n"
     ]
    }
   ],
   "source": [
    "print(greatest_number_method_2(-1, -99, 4))"
   ]
  },
  {
   "cell_type": "code",
   "execution_count": 23,
   "id": "12481bda",
   "metadata": {},
   "outputs": [
    {
     "data": {
      "text/plain": [
       "15"
      ]
     },
     "execution_count": 23,
     "metadata": {},
     "output_type": "execute_result"
    }
   ],
   "source": [
    "def sum_series(n):\n",
    "    sum = 0\n",
    "    for i in range(0,n+1):\n",
    "        sum += i\n",
    "    return sum\n",
    "sum_series(5)"
   ]
  },
  {
   "cell_type": "code",
   "execution_count": 28,
   "id": "1409dca2",
   "metadata": {},
   "outputs": [
    {
     "data": {
      "text/plain": [
       "720"
      ]
     },
     "execution_count": 28,
     "metadata": {},
     "output_type": "execute_result"
    }
   ],
   "source": [
    "def factorial(fact):\n",
    "    res = 1\n",
    "    if (fact == 0) or (fact == 1):\n",
    "        return res\n",
    "    elif fact > 1: \n",
    "        for i in range (2,fact+1):\n",
    "            res *= i\n",
    "    return res\n",
    "\n",
    "\n",
    "factorial(6)\n",
    "        "
   ]
  },
  {
   "cell_type": "code",
   "execution_count": 97,
   "id": "4f019a26",
   "metadata": {},
   "outputs": [],
   "source": [
    "def is_palindrome(palindrome):\n",
    "    reversed_word = \"\"\n",
    "    for i in palindrome:\n",
    "        reversed_word = i + reversed_word\n",
    "    if (reversed_word == palindrome):\n",
    "        return \"is palindrome\"\n",
    "    else:\n",
    "        return \"is not palindrome\""
   ]
  },
  {
   "cell_type": "code",
   "execution_count": 98,
   "id": "be7eef6e",
   "metadata": {},
   "outputs": [
    {
     "data": {
      "text/plain": [
       "'is palindrome'"
      ]
     },
     "execution_count": 98,
     "metadata": {},
     "output_type": "execute_result"
    }
   ],
   "source": [
    "is_palindrome(\"max\")"
   ]
  },
  {
   "cell_type": "code",
   "execution_count": null,
   "id": "81334966",
   "metadata": {},
   "outputs": [],
   "source": []
  }
 ],
 "metadata": {
  "kernelspec": {
   "display_name": "Python 3 (ipykernel)",
   "language": "python",
   "name": "python3"
  },
  "language_info": {
   "codemirror_mode": {
    "name": "ipython",
    "version": 3
   },
   "file_extension": ".py",
   "mimetype": "text/x-python",
   "name": "python",
   "nbconvert_exporter": "python",
   "pygments_lexer": "ipython3",
   "version": "3.9.13"
  }
 },
 "nbformat": 4,
 "nbformat_minor": 5
}

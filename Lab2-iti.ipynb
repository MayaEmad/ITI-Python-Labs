{
 "cells": [
  {
   "cell_type": "code",
   "execution_count": 63,
   "id": "2cb9c5a0",
   "metadata": {},
   "outputs": [
    {
     "name": "stdout",
     "output_type": "stream",
     "text": [
      "Number 1: 1\n",
      "Number 2: 0\n",
      "operation: /\n",
      "Error! Division by Zero.\n"
     ]
    }
   ],
   "source": [
    "num1 = input(\"Number 1: \")\n",
    "num2 = input(\"Number 2: \")\n",
    "operation = input(\"operation: \")\n",
    "num1_int = float(num1)\n",
    "num2_int = float(num2)\n",
    "result = 0\n",
    "if operation.lower() == \"add\" or operation == \"+\" :\n",
    "    result = num1_int + num2_int\n",
    "elif operation.lower() == \"subtract\" or operation == \"-\" :\n",
    "    result = num1_int - num2_int\n",
    "elif operation.lower() == \"multiply\" or operation == \"*\" :\n",
    "    result = num1_int * num2_int\n",
    "elif operation.lower() == \"divide\" or operation == \"/\" :\n",
    "    if (num2_int == 0):\n",
    "        result = \"Error! Division by Zero.\"\n",
    "    else :\n",
    "        result = num1_int / num2_int\n",
    "print(result)"
   ]
  },
  {
   "cell_type": "code",
   "execution_count": 8,
   "id": "76f3aa3a",
   "metadata": {},
   "outputs": [
    {
     "name": "stdout",
     "output_type": "stream",
     "text": [
      "Hourly Wages: 8.5\n",
      "Hours Worked: 3\n",
      "Week Day: monday\n",
      "Daily Wages = 25.5 euros\n"
     ]
    }
   ],
   "source": [
    "hourly_wages = input(\"Hourly Wages: \")\n",
    "hours_worked = input(\"Hours Worked: \")\n",
    "week_day = input(\"Week Day: \")\n",
    "hourly_wages_int = float(hourly_wages)\n",
    "hours_worked_int = float(hours_worked)\n",
    "if week_day.lower() == \"sunday\" :\n",
    "    daily_wages = hourly_wages_int * hours_worked_int * 2\n",
    "else :\n",
    "    daily_wages = hourly_wages_int * hours_worked_int\n",
    "print(f\"Daily Wages = {daily_wages} euros\")"
   ]
  },
  {
   "cell_type": "code",
   "execution_count": 49,
   "id": "0b56784d",
   "metadata": {},
   "outputs": [
    {
     "name": "stdout",
     "output_type": "stream",
     "text": [
      "How many points are on your card? 95\n",
      "Your Bonus is 10%\n",
      "You now have 104.50000000000001 points\n"
     ]
    }
   ],
   "source": [
    "points = input(\"How many points are on your card? \")\n",
    "points_float = float(points)\n",
    "if(points_float < 100):\n",
    "    bonus = \"10%\"\n",
    "    total_points = points_float * 1.1\n",
    "else:\n",
    "    bonus = \"15%\"\n",
    "    total_points = points_float * 1.15\n",
    "print(f\"Your Bonus is {bonus}\\nYou now have {total_points} points\")"
   ]
  },
  {
   "cell_type": "code",
   "execution_count": 27,
   "id": "276c3c9a",
   "metadata": {},
   "outputs": [
    {
     "name": "stdout",
     "output_type": "stream",
     "text": [
      "How many points are on your card? 95\n",
      "Your bonus is 10 %\n",
      "You now have 104.50000000000001 points\n"
     ]
    }
   ],
   "source": [
    "# Fix the program\n",
    "points = int(input(\"How many points are on your card? \"))\n",
    "if points < 100:\n",
    "    total_points = points * 1.1\n",
    "    print(\"Your bonus is 10 %\")\n",
    "\n",
    "if points >= 100:\n",
    "    total_points = points * 1.15\n",
    "    print(\"Your bonus is 15 %\")\n",
    "\n",
    "print(\"You now have\", total_points, \"points\")"
   ]
  },
  {
   "cell_type": "code",
   "execution_count": 23,
   "id": "231c6be0",
   "metadata": {},
   "outputs": [
    {
     "name": "stdout",
     "output_type": "stream",
     "text": [
      "Number: 7\n",
      "\n"
     ]
    }
   ],
   "source": [
    "number = input(\"Number: \")\n",
    "number_int = int(number)\n",
    "result = \"\"\n",
    "if number_int % 3 == 0 and number_int % 5 == 0:\n",
    "    result = \"FizzBuzz\"\n",
    "elif number_int % 3 == 0:\n",
    "    result = \"Fizz\"\n",
    "elif number_int % 5 == 0:\n",
    "    result = \"Buzz\"\n",
    "print(result)"
   ]
  },
  {
   "cell_type": "code",
   "execution_count": 32,
   "id": "e0fc8c67",
   "metadata": {},
   "outputs": [
    {
     "name": "stdout",
     "output_type": "stream",
     "text": [
      "PIN: 5654\n",
      "Wrong\n",
      "PIN: 54646\n",
      "Wrong\n",
      "PIN: 4321\n",
      "Correct! it took you 3 attempts\n"
     ]
    }
   ],
   "source": [
    "count = 1\n",
    "pin = input(\"PIN: \")\n",
    "while pin != \"4321\":\n",
    "    if pin != \"4321\" :\n",
    "        print(\"Wrong\")\n",
    "        pin = input(\"PIN: \")\n",
    "        count += 1\n",
    "if count == 1:\n",
    "    print(f\"Correct! it took you one single attempt\")\n",
    "else:\n",
    "    print(f\"Correct! it took you {count} attempts\")"
   ]
  },
  {
   "cell_type": "code",
   "execution_count": 34,
   "id": "91407e05",
   "metadata": {},
   "outputs": [
    {
     "name": "stdout",
     "output_type": "stream",
     "text": [
      "-10\n",
      "-9\n",
      "-8\n",
      "-7\n",
      "-6\n",
      "-5\n",
      "-4\n",
      "-3\n",
      "-2\n",
      "-1\n"
     ]
    }
   ],
   "source": [
    "for i in range(-10,0,1):\n",
    "    print(i)"
   ]
  },
  {
   "cell_type": "code",
   "execution_count": 61,
   "id": "824f7328",
   "metadata": {},
   "outputs": [
    {
     "name": "stdout",
     "output_type": "stream",
     "text": [
      "56566215\n"
     ]
    }
   ],
   "source": [
    "num = \"51266565\"              # case of string\n",
    "reversed_num_str = \"\"\n",
    "for i in range(len(num)):\n",
    "    reversed_num = int(num) % 10    #get the last digit\n",
    "    reversed_num_str += str(reversed_num)  \n",
    "    num = int(num) // 10                   # remove the last digit\n",
    "print(str(reversed_num_str))"
   ]
  },
  {
   "cell_type": "code",
   "execution_count": 62,
   "id": "51b9b532",
   "metadata": {},
   "outputs": [
    {
     "name": "stdout",
     "output_type": "stream",
     "text": [
      "12345\n"
     ]
    }
   ],
   "source": [
    "num = 54321              # case of int\n",
    "reversed_num_str = \"\"\n",
    "for i in range(len(str(num))):\n",
    "    reversed_num = int(num) % 10     \n",
    "    reversed_num_str += str(reversed_num)\n",
    "    num = int(num) // 10\n",
    "print(reversed_num_str)"
   ]
  },
  {
   "cell_type": "code",
   "execution_count": null,
   "id": "4e5bc0fd",
   "metadata": {},
   "outputs": [],
   "source": []
  }
 ],
 "metadata": {
  "kernelspec": {
   "display_name": "Python 3 (ipykernel)",
   "language": "python",
   "name": "python3"
  },
  "language_info": {
   "codemirror_mode": {
    "name": "ipython",
    "version": 3
   },
   "file_extension": ".py",
   "mimetype": "text/x-python",
   "name": "python",
   "nbconvert_exporter": "python",
   "pygments_lexer": "ipython3",
   "version": "3.9.13"
  }
 },
 "nbformat": 4,
 "nbformat_minor": 5
}

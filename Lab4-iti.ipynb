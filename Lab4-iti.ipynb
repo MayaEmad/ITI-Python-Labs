{
 "cells": [
  {
   "cell_type": "code",
   "execution_count": null,
   "id": "2afb0984",
   "metadata": {},
   "outputs": [],
   "source": [
    "#### **Warm-Up: Basic Operations**\n",
    "# 1. **Lists:**"
   ]
  },
  {
   "cell_type": "code",
   "execution_count": 20,
   "id": "64b02aef",
   "metadata": {
    "scrolled": true
   },
   "outputs": [
    {
     "name": "stdout",
     "output_type": "stream",
     "text": [
      "[1, 2, 3, 4, 5, 6, 7, 8, 9, 10]\n"
     ]
    }
   ],
   "source": [
    "lst = list(range(1,11))\n",
    "print(lst)"
   ]
  },
  {
   "cell_type": "code",
   "execution_count": 21,
   "id": "a97a3d34",
   "metadata": {},
   "outputs": [
    {
     "name": "stdout",
     "output_type": "stream",
     "text": [
      "1\n",
      "10\n",
      "[10, 9, 8, 7, 6, 5, 4, 3, 2, 1]\n"
     ]
    }
   ],
   "source": [
    "print(lst[0])\n",
    "print(lst[-1])\n",
    "lst.reverse()\n",
    "print(lst)"
   ]
  },
  {
   "cell_type": "code",
   "execution_count": null,
   "id": "f97d36f5",
   "metadata": {},
   "outputs": [],
   "source": [
    "# 2. **Dictionaries:**"
   ]
  },
  {
   "cell_type": "code",
   "execution_count": 22,
   "id": "d6a3e126",
   "metadata": {},
   "outputs": [],
   "source": [
    "square_numbers = {1:1,2:4,3:9,4:16,5:25}"
   ]
  },
  {
   "cell_type": "code",
   "execution_count": 23,
   "id": "f85601e8",
   "metadata": {},
   "outputs": [
    {
     "name": "stdout",
     "output_type": "stream",
     "text": [
      "{1: 1, 2: 4, 3: 9, 4: 16, 5: 25}\n"
     ]
    }
   ],
   "source": [
    "print(square_numbers)"
   ]
  },
  {
   "cell_type": "code",
   "execution_count": 24,
   "id": "d7b07554",
   "metadata": {},
   "outputs": [],
   "source": [
    "square_numbers[6] = 36"
   ]
  },
  {
   "cell_type": "code",
   "execution_count": 25,
   "id": "8c082258",
   "metadata": {},
   "outputs": [
    {
     "name": "stdout",
     "output_type": "stream",
     "text": [
      "{1: 1, 2: 4, 3: 9, 4: 16, 5: 25, 6: 36}\n"
     ]
    }
   ],
   "source": [
    "print(square_numbers)"
   ]
  },
  {
   "cell_type": "code",
   "execution_count": 30,
   "id": "f3412dbd",
   "metadata": {},
   "outputs": [
    {
     "name": "stdout",
     "output_type": "stream",
     "text": [
      "Found\n"
     ]
    }
   ],
   "source": [
    "if square_numbers.get(4,\"Not Found\") != \"Not Found\":\n",
    "    print(\"Found\")"
   ]
  },
  {
   "cell_type": "code",
   "execution_count": null,
   "id": "0a3a81be",
   "metadata": {},
   "outputs": [],
   "source": [
    "#### **Problem-Solving: Real-World Scenarios**\n",
    "# 1. **Student Grades:**"
   ]
  },
  {
   "cell_type": "code",
   "execution_count": 19,
   "id": "d52afa2e",
   "metadata": {},
   "outputs": [
    {
     "name": "stdout",
     "output_type": "stream",
     "text": [
      "The average grade for student Ahmed is 93.25\n",
      "The average grade for student Mohamed is 89.5\n",
      "The average grade for student Esraa is 94.75\n",
      "The average grade for student Asmaa is 93.5\n"
     ]
    }
   ],
   "source": [
    "student_grades = {\"Ahmed\":[90,95,89,99],\"Mohamed\":[85,90,88,95],\"Esraa\":[95,96,90,98],\"Asmaa\":[96,92,91,95]}\n",
    "average_list = []\n",
    "student_average = {}\n",
    "for name,grades in student_grades.items():\n",
    "    avg,sum_grades = 0,0\n",
    "    for grade in grades:\n",
    "        sum_grades += grade\n",
    "    avg = sum_grades/len(grades)\n",
    "    average_list.append(avg)\n",
    "    student_average[name] = avg\n",
    "    print(f\"The average grade for student {name} is {avg}\")"
   ]
  },
  {
   "cell_type": "code",
   "execution_count": 20,
   "id": "c744fef7",
   "metadata": {},
   "outputs": [
    {
     "name": "stdout",
     "output_type": "stream",
     "text": [
      "[93.25, 89.5, 94.75, 93.5]\n",
      "[89.5, 93.25, 93.5, 94.75]\n"
     ]
    }
   ],
   "source": [
    "print(average_list)\n",
    "average_list.sort()\n",
    "print(average_list)"
   ]
  },
  {
   "cell_type": "code",
   "execution_count": 21,
   "id": "5c16873a",
   "metadata": {},
   "outputs": [
    {
     "data": {
      "text/plain": [
       "{'Ahmed': 93.25, 'Mohamed': 89.5, 'Esraa': 94.75, 'Asmaa': 93.5}"
      ]
     },
     "execution_count": 21,
     "metadata": {},
     "output_type": "execute_result"
    }
   ],
   "source": [
    "student_average"
   ]
  },
  {
   "cell_type": "code",
   "execution_count": 22,
   "id": "abbe4580",
   "metadata": {},
   "outputs": [
    {
     "name": "stdout",
     "output_type": "stream",
     "text": [
      "94.75\n",
      "Esraa\n"
     ]
    }
   ],
   "source": [
    "highest_average = average_list[-1]\n",
    "print(highest_average)\n",
    "student_with_highest_average = [key for key,value in student_average.items() if value == highest_average]\n",
    "print(student_with_highest_average[0])"
   ]
  },
  {
   "cell_type": "code",
   "execution_count": 23,
   "id": "6ebcc29a",
   "metadata": {},
   "outputs": [
    {
     "name": "stdout",
     "output_type": "stream",
     "text": [
      " the student with the highest average 94.75 is Esraa\n"
     ]
    }
   ],
   "source": [
    "print(f\" the student with the highest average {highest_average} is {student_with_highest_average[0]}\")"
   ]
  },
  {
   "cell_type": "code",
   "execution_count": null,
   "id": "4b132944",
   "metadata": {},
   "outputs": [],
   "source": [
    "# 2. **Shopping Cart:**"
   ]
  },
  {
   "cell_type": "code",
   "execution_count": 72,
   "id": "c9576d51",
   "metadata": {},
   "outputs": [
    {
     "name": "stdout",
     "output_type": "stream",
     "text": [
      "{'apples': 60, 'bananas': 40, 'chocolate': 40, 'vegtables': 200, 'toys': 160}\n"
     ]
    }
   ],
   "source": [
    "shopping_cart = {\"apples\":60,\"bananas\":40,\"chocolate\":40,\"vegtables\":200}\n",
    "shopping_cart[\"toys\"] = 160\n",
    "print(shopping_cart)"
   ]
  },
  {
   "cell_type": "code",
   "execution_count": 189,
   "id": "0a2264e2",
   "metadata": {},
   "outputs": [
    {
     "name": "stdout",
     "output_type": "stream",
     "text": [
      "the total price is 500\n"
     ]
    }
   ],
   "source": [
    "sum_price = 0\n",
    "for price in shopping_cart.values():\n",
    "    sum_price += price\n",
    "print(f\"the total price is {sum_price}\")"
   ]
  },
  {
   "cell_type": "code",
   "execution_count": null,
   "id": "d8cb4aff",
   "metadata": {},
   "outputs": [],
   "source": [
    "# 3. **Employee Database:**"
   ]
  },
  {
   "cell_type": "code",
   "execution_count": 78,
   "id": "795aebff",
   "metadata": {},
   "outputs": [
    {
     "name": "stdout",
     "output_type": "stream",
     "text": [
      "[{'name': 'Ahmed', 'age': 30, 'department': 'HR'}, {'name': 'Ali', 'age': 32, 'department': 'IT'}, {'name': 'Zena', 'age': 29, 'department': 'IT'}, {'name': 'Asmaa', 'age': 40, 'department': 'marketing'}, {'name': 'Mohamed', 'age': 35, 'department': 'HR'}]\n"
     ]
    }
   ],
   "source": [
    "employee_1 = {\"name\":\"Ahmed\",\"age\":30,\"department\":\"HR\"}\n",
    "employee_2 = {\"name\":\"Ali\",\"age\":32,\"department\":\"IT\"}\n",
    "employee_3 = {\"name\":\"Zena\",\"age\":29,\"department\":\"IT\"}\n",
    "employee_4 = {\"name\":\"Asmaa\",\"age\":40,\"department\":\"marketing\"}\n",
    "employee_5 = {\"name\":\"Mohamed\",\"age\":35,\"department\":\"HR\"}\n",
    "\n",
    "employees = [employee_1,employee_2,employee_3,employee_4,employee_5]\n",
    "print(employees)"
   ]
  },
  {
   "cell_type": "code",
   "execution_count": 80,
   "id": "970b8c74",
   "metadata": {},
   "outputs": [
    {
     "name": "stdout",
     "output_type": "stream",
     "text": [
      "Ali\n",
      "Zena\n"
     ]
    }
   ],
   "source": [
    "for employee in employees:\n",
    "    for key,value in employee.items():\n",
    "        if value == \"IT\":\n",
    "            print(employee[\"name\"])"
   ]
  },
  {
   "cell_type": "code",
   "execution_count": 95,
   "id": "c5836498",
   "metadata": {},
   "outputs": [
    {
     "name": "stdout",
     "output_type": "stream",
     "text": [
      "the average age for the employees is 33.2\n"
     ]
    }
   ],
   "source": [
    "age_sum = 0\n",
    "for employee in employees:\n",
    "    age_sum += employee[\"age\"]\n",
    "age_avg = age_sum / len(employees) \n",
    "print(f\"the average age for the employees is {age_avg}\")"
   ]
  },
  {
   "cell_type": "code",
   "execution_count": null,
   "id": "f2735a1f",
   "metadata": {},
   "outputs": [],
   "source": [
    "#### **Challenge Section**\n",
    "# 1. **Word Frequency Counter:**"
   ]
  },
  {
   "cell_type": "code",
   "execution_count": 15,
   "id": "705a93ce",
   "metadata": {},
   "outputs": [],
   "source": [
    "def word_frequency_counter(text):\n",
    "    '''a function that, given a string/text, counts the frequency of each word'''\n",
    "    word_dict = {}\n",
    "    words = text.lower().split()\n",
    "    for word in words:\n",
    "        if word in word_dict:\n",
    "            word_dict[word] += 1\n",
    "        else:\n",
    "            word_dict[word] = 1\n",
    "    return word_dict"
   ]
  },
  {
   "cell_type": "code",
   "execution_count": 18,
   "id": "97c27bfb",
   "metadata": {},
   "outputs": [
    {
     "data": {
      "text/plain": [
       "{'hello!': 2, ',': 1, 'my': 1, 'name': 1, 'is': 1, 'maya': 2}"
      ]
     },
     "execution_count": 18,
     "metadata": {},
     "output_type": "execute_result"
    }
   ],
   "source": [
    "word_frequency_counter(\"Hello! hello! , my name is Maya Maya\")"
   ]
  },
  {
   "cell_type": "code",
   "execution_count": null,
   "id": "592547f0",
   "metadata": {},
   "outputs": [],
   "source": [
    "# 2. **Inventory Management:**"
   ]
  },
  {
   "cell_type": "code",
   "execution_count": 121,
   "id": "8702a5f6",
   "metadata": {},
   "outputs": [],
   "source": [
    "def update(inventory,item,quantity_sold):\n",
    "    '''a function that Updates the inventory after a sale.'''\n",
    "    if item in inventory:\n",
    "        if inventory[item][\"quantity\"] >= quantity_sold:\n",
    "            inventory[item][\"quantity\"] -= quantity_sold\n",
    "            total_price = quantity_sold * inventory[item][\"price\"]\n",
    "            print(f\"Sold {quantity_sold} {item} for ${total_price}\")\n",
    "            print(f'Available: {inventory[item][\"quantity\"]}')\n",
    "\n",
    "        else:\n",
    "            print(f\"Not enough {item} in stock. Available: {inventory[item]['quantity']}\")\n",
    "        \n",
    "    else:\n",
    "        print(f\"{item} does not exist in inventory.\")"
   ]
  },
  {
   "cell_type": "code",
   "execution_count": 133,
   "id": "c88a6eb1",
   "metadata": {},
   "outputs": [],
   "source": [
    "def restock_item(inventory,item,quantity_stock):\n",
    "    '''a function that restocks an item in the inventory.'''\n",
    "    if item in inventory:\n",
    "        inventory[item][\"quantity\"] += quantity_stock\n",
    "        print(f'Available: {inventory[item][\"quantity\"]}')\n",
    "    else:\n",
    "        print(f\"{item} product does not exist in inventory.\")"
   ]
  },
  {
   "cell_type": "code",
   "execution_count": 134,
   "id": "8f84840e",
   "metadata": {},
   "outputs": [
    {
     "name": "stdout",
     "output_type": "stream",
     "text": [
      "Sold 20 Apples for $600\n",
      "Available: 30\n"
     ]
    }
   ],
   "source": [
    "inventory_system = {\n",
    "    \"Apples\": {\"price\": 30, \"quantity\": 50},\n",
    "    \"Bananas\": {\"price\": 20, \"quantity\": 100},\n",
    "    \"Cherries\": {\"price\": 50, \"quantity\": 75},\n",
    "}\n",
    "update(inventory_system,\"Apples\",20)"
   ]
  },
  {
   "cell_type": "code",
   "execution_count": 135,
   "id": "fd00baea",
   "metadata": {},
   "outputs": [
    {
     "name": "stdout",
     "output_type": "stream",
     "text": [
      "Available: 50\n"
     ]
    }
   ],
   "source": [
    "restock_item(inventory_system,\"Apples\",20)"
   ]
  },
  {
   "cell_type": "code",
   "execution_count": 136,
   "id": "5c6711ad",
   "metadata": {},
   "outputs": [
    {
     "name": "stdout",
     "output_type": "stream",
     "text": [
      "oranges product does not exist in inventory.\n"
     ]
    }
   ],
   "source": [
    "restock_item(inventory_system,\"oranges\",20)"
   ]
  },
  {
   "cell_type": "code",
   "execution_count": null,
   "id": "31af3faa",
   "metadata": {},
   "outputs": [],
   "source": [
    "# 3. **Nested Data Manipulation:**"
   ]
  },
  {
   "cell_type": "code",
   "execution_count": 137,
   "id": "983b2323",
   "metadata": {},
   "outputs": [],
   "source": [
    "def add_book(library,book,genre):\n",
    "    '''a function that adds a book to a specific genre in the library.'''\n",
    "    if genre in library:\n",
    "        library[genre].append(book)\n",
    "    else:\n",
    "        library[genre] = [book]\n",
    "    return library\n",
    "        "
   ]
  },
  {
   "cell_type": "code",
   "execution_count": 149,
   "id": "4a72d4c3",
   "metadata": {},
   "outputs": [],
   "source": [
    "def list_book(library,genre):\n",
    "    '''a function that lists all books in a specified genre.'''\n",
    "    if genre in library:\n",
    "        return library[genre]\n",
    "    else:\n",
    "        return \"genre not found\""
   ]
  },
  {
   "cell_type": "code",
   "execution_count": 150,
   "id": "85127ff6",
   "metadata": {},
   "outputs": [],
   "source": [
    "library = {\"Science Fiction\": [\"book 1\", \"book 2\", \"book 3\"],\n",
    "    \"Fantasy\": [\"book 4\", \"book 5\", \"book 6\"],\n",
    "    \"Mystery\": [\"book 7\", \"book 8\", \"book 9\"],\n",
    "    \"Non-Fiction\": [\"book 10\", \"book 11\", \"book 12\"]\n",
    "}"
   ]
  },
  {
   "cell_type": "code",
   "execution_count": 151,
   "id": "e588eed1",
   "metadata": {},
   "outputs": [
    {
     "data": {
      "text/plain": [
       "{'Science Fiction': ['book 1', 'book 2', 'book 3'],\n",
       " 'Fantasy': ['book 4', 'book 5', 'book 6'],\n",
       " 'Mystery': ['book 7', 'book 8', 'book 9'],\n",
       " 'Non-Fiction': ['book 10', 'book 11', 'book 12'],\n",
       " 'Romance': ['book 13']}"
      ]
     },
     "execution_count": 151,
     "metadata": {},
     "output_type": "execute_result"
    }
   ],
   "source": [
    "add_book(library,\"book 13\",\"Romance\")"
   ]
  },
  {
   "cell_type": "code",
   "execution_count": 152,
   "id": "35ca18e2",
   "metadata": {},
   "outputs": [
    {
     "data": {
      "text/plain": [
       "['book 4', 'book 5', 'book 6']"
      ]
     },
     "execution_count": 152,
     "metadata": {},
     "output_type": "execute_result"
    }
   ],
   "source": [
    "list_book(library,\"Fantasy\")"
   ]
  },
  {
   "cell_type": "code",
   "execution_count": null,
   "id": "b6c1e0e6",
   "metadata": {},
   "outputs": [],
   "source": [
    "# 4. **Anagram Checker:**"
   ]
  },
  {
   "cell_type": "code",
   "execution_count": 10,
   "id": "7cda460a",
   "metadata": {},
   "outputs": [],
   "source": [
    "def char_frequency_counter(word):\n",
    "    '''a function that, given a word, counts the frequency of each character'''\n",
    "    word_dict = {}\n",
    "    for char in word:\n",
    "        if char in word_dict:\n",
    "            word_dict[char] += 1\n",
    "        else:\n",
    "            word_dict[char] = 1\n",
    "    return word_dict"
   ]
  },
  {
   "cell_type": "code",
   "execution_count": 11,
   "id": "3c1fe290",
   "metadata": {},
   "outputs": [],
   "source": [
    "def anagram(word1,word2):\n",
    "    '''a function that checks if two words are anagrams of each other''' \n",
    "    return char_frequency_counter(word1) == char_frequency_counter(word2)"
   ]
  },
  {
   "cell_type": "code",
   "execution_count": 12,
   "id": "097c40d3",
   "metadata": {},
   "outputs": [
    {
     "data": {
      "text/plain": [
       "True"
      ]
     },
     "execution_count": 12,
     "metadata": {},
     "output_type": "execute_result"
    }
   ],
   "source": [
    "anagram(\"kdsl\",\"lsdk\")"
   ]
  },
  {
   "cell_type": "code",
   "execution_count": null,
   "id": "3bab600b",
   "metadata": {},
   "outputs": [],
   "source": [
    "# 5. **Two-Sum Problem:**"
   ]
  },
  {
   "cell_type": "code",
   "execution_count": 176,
   "id": "46af0d4f",
   "metadata": {},
   "outputs": [],
   "source": [
    "def two_sum(lst, target):\n",
    "    '''a function that finds two indices in the list such that the numbers at those indices add up to the target.'''\n",
    "    two_sum_dict = {}\n",
    "    for i in range(len(lst)):\n",
    "        num = lst[i]\n",
    "        complement = target - num\n",
    "        if complement in two_sum_dict:\n",
    "            return [two_sum_dict[complement], i]\n",
    "        two_sum_dict[num] = i\n",
    "    return []"
   ]
  },
  {
   "cell_type": "code",
   "execution_count": 178,
   "id": "fbab88f4",
   "metadata": {},
   "outputs": [
    {
     "data": {
      "text/plain": [
       "[1, 2]"
      ]
     },
     "execution_count": 178,
     "metadata": {},
     "output_type": "execute_result"
    }
   ],
   "source": [
    "two_sum([3,7,2,6,5],9)"
   ]
  },
  {
   "cell_type": "code",
   "execution_count": null,
   "id": "dfef1cfb",
   "metadata": {},
   "outputs": [],
   "source": []
  }
 ],
 "metadata": {
  "kernelspec": {
   "display_name": "Python 3 (ipykernel)",
   "language": "python",
   "name": "python3"
  },
  "language_info": {
   "codemirror_mode": {
    "name": "ipython",
    "version": 3
   },
   "file_extension": ".py",
   "mimetype": "text/x-python",
   "name": "python",
   "nbconvert_exporter": "python",
   "pygments_lexer": "ipython3",
   "version": "3.9.13"
  }
 },
 "nbformat": 4,
 "nbformat_minor": 5
}

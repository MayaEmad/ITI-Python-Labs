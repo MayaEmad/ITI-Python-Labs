{
 "cells": [
  {
   "cell_type": "code",
   "execution_count": 56,
   "id": "3765bf9b",
   "metadata": {},
   "outputs": [],
   "source": [
    "import math\n",
    "class Pagination:\n",
    "    \n",
    "    def __init__(self,items = [],pageSize = 10):\n",
    "        \n",
    "        '''\n",
    "        Initializes the Pagination object with items and page size.\n",
    "\n",
    "        Args:\n",
    "            items (list): The list of items to paginate. Defaults to an empty list.\n",
    "            pageSize (int): The number of items per page. Defaults to 10.\n",
    "        '''\n",
    "        \n",
    "        self.items = items\n",
    "        self.pageSize = int(pageSize)\n",
    "        self.totalPages = math.ceil(len(self.items) / self.pageSize)\n",
    "        #self.totalPages = max(1, (len(self.items) + self.pageSize - 1) // self.pageSize)\n",
    "        self.currentPage = 1\n",
    "    \n",
    "    def getVisibleItems(self):\n",
    "        \n",
    "        '''\n",
    "        Retrieves the items visible on the current page.\n",
    "\n",
    "        Returns:\n",
    "            list: A list of items on the current page.\n",
    "        '''\n",
    "        \n",
    "        return self.items[(self.currentPage - 1) * self.pageSize : self.currentPage * self.pageSize]\n",
    "    \n",
    "    def prevPage(self):\n",
    "        \n",
    "        '''\n",
    "        Moves to the previous page if it exists. If already on the first page, it remains there.\n",
    "\n",
    "        Returns:\n",
    "            Pagination: The current instance for method chaining.\n",
    "        '''\n",
    "        \n",
    "        self.currentPage -= 1\n",
    "        if self.currentPage <= 0:\n",
    "            self.currentPage = 1 \n",
    "        return self\n",
    "    \n",
    "    def nextPage(self):\n",
    "        \n",
    "        '''\n",
    "        Moves to the next page if it exists. If already on the last page, it remains there.\n",
    "\n",
    "        Returns:\n",
    "            Pagination: The current instance for method chaining.\n",
    "        '''\n",
    "        \n",
    "        self.currentPage += 1\n",
    "        if self.currentPage >= self.totalPages:\n",
    "            self.currentPage = self.totalPages \n",
    "        return self\n",
    "    \n",
    "    def firstPage(self):\n",
    "        \n",
    "        '''\n",
    "        Moves to the first page.\n",
    "\n",
    "        Returns:\n",
    "            Pagination: The current instance for method chaining.\n",
    "        '''\n",
    "        \n",
    "        self.currentPage = 1\n",
    "        return self\n",
    "    \n",
    "    def lastPage(self):\n",
    "        \n",
    "        '''\n",
    "        Moves to the last page.\n",
    "\n",
    "        Returns:\n",
    "            Pagination: The current instance for method chaining.\n",
    "        '''\n",
    "        \n",
    "        self.currentPage = self.totalPages\n",
    "        return self\n",
    "    \n",
    "    def goToPage(self,pageNumber):\n",
    "        \n",
    "        '''\n",
    "        Moves to a specific page. If the page number is out of bounds, it adjusts to the nearest valid page.\n",
    "\n",
    "        Args:\n",
    "            pageNumber (int): The page number to move to.\n",
    "\n",
    "        Returns:\n",
    "            Pagination: The current instance for method chaining.\n",
    "        '''\n",
    "        \n",
    "        if pageNumber > self.currentPage:\n",
    "            self.currentPage = self.totalPages\n",
    "        elif pageNumber < self.currentPage:\n",
    "            self.currentPage = 1\n",
    "        else:\n",
    "            self.currentPage = pageNumber\n",
    "        return self\n",
    "    "
   ]
  },
  {
   "cell_type": "code",
   "execution_count": 57,
   "id": "42432dcf",
   "metadata": {},
   "outputs": [
    {
     "name": "stdout",
     "output_type": "stream",
     "text": [
      "['a', 'b', 'c', 'd']\n"
     ]
    }
   ],
   "source": [
    "alphapetList = list(\"abcdefghijklmnopqrstuvwxyz\")\n",
    "p = Pagination(alphapetList,4)\n",
    "print(p.getVisibleItems())"
   ]
  },
  {
   "cell_type": "code",
   "execution_count": 58,
   "id": "b2ad29ad",
   "metadata": {},
   "outputs": [
    {
     "name": "stdout",
     "output_type": "stream",
     "text": [
      "['i', 'j', 'k', 'l']\n"
     ]
    }
   ],
   "source": [
    "p.nextPage().nextPage()\n",
    "print(p.getVisibleItems())"
   ]
  },
  {
   "cell_type": "code",
   "execution_count": 59,
   "id": "b864e19e",
   "metadata": {},
   "outputs": [
    {
     "name": "stdout",
     "output_type": "stream",
     "text": [
      "['y', 'z']\n"
     ]
    }
   ],
   "source": [
    "p.lastPage()\n",
    "print(p.getVisibleItems())"
   ]
  },
  {
   "cell_type": "code",
   "execution_count": 62,
   "id": "f5511f6c",
   "metadata": {},
   "outputs": [
    {
     "name": "stdout",
     "output_type": "stream",
     "text": [
      "['y', 'z']\n"
     ]
    }
   ],
   "source": [
    "p.nextPage()\n",
    "print(p.getVisibleItems())"
   ]
  },
  {
   "cell_type": "code",
   "execution_count": 168,
   "id": "d160a754",
   "metadata": {},
   "outputs": [],
   "source": [
    "##################################################################################################"
   ]
  },
  {
   "cell_type": "code",
   "execution_count": 157,
   "id": "c3722316",
   "metadata": {},
   "outputs": [],
   "source": [
    "class CoffeeShop:\n",
    "    def __init__(self,name,menu,orders=[]):\n",
    "        self.name = name\n",
    "        self.menu = menu\n",
    "        self.orders = orders\n",
    "        self.ordersTaken = []\n",
    "    \n",
    "    def add_order(self,name):\n",
    "         ''' adds an item to the orders list if it exists on the menu.'''\n",
    "        for item in self.menu:\n",
    "            if item[\"name\"] == name:\n",
    "                self.orders.append(name)\n",
    "                return f\"this item {name} has been added to your list of orders\"\n",
    "        \n",
    "        return \"This item is currently unavailable!\"\n",
    "    \n",
    "    def fulfill_order(self):\n",
    "        ''' fulfills the first order in the list or indicates if all orders are fulfilled.'''\n",
    "        if len(self.orders) > 0:\n",
    "            item = self.orders.pop()\n",
    "            self.ordersTaken.append(item)\n",
    "            return f\"The {item} is ready!\"\n",
    "        \n",
    "        return \"All orders have been fulfilled!\" \n",
    "    \n",
    "    def list_orders(self):\n",
    "        ''' returns the item names of the orders taken,\n",
    "            otherwise,an empty list.  '''\n",
    "        if len(self.ordersTaken) > 0:\n",
    "            return self.ordersTaken\n",
    "        return []\n",
    "    \n",
    "    def due_amount(self):\n",
    "        ''' calculates the total amount due for the orders taken. '''\n",
    "        total = 0\n",
    "        for order in self.ordersTaken:\n",
    "            for item in self.menu:\n",
    "                if item[\"name\"] == order:\n",
    "                    total += item[\"price\"]\n",
    "        return total\n",
    "    \n",
    "    def cheapest_item(self):\n",
    "        ''' returns the name of the cheapest item on the menu. '''\n",
    "        prices = []\n",
    "        for item in self.menu:\n",
    "            prices.append(item[\"price\"])\n",
    "        prices.sort()\n",
    "        cheapest_price = prices[0]\n",
    "        for item in self.menu:\n",
    "            if item[\"price\"] == cheapest_price:\n",
    "                return item[\"name\"]\n",
    "    \n",
    "    def drinks_only(self):\n",
    "        ''' returns only the item names of type drink from the menu.  '''\n",
    "        drink_list = []\n",
    "        for item in self.menu:\n",
    "            if item[\"type\"].lower() == \"drink\":\n",
    "                drink_list.append(item[\"name\"])\n",
    "        return drink_list\n",
    "    \n",
    "    def food_only(self):\n",
    "        ''' returns only the item names of type food from the menu. '''\n",
    "        food_list = []\n",
    "        for item in self.menu:\n",
    "            if item[\"type\"].lower() == \"food\":\n",
    "                food_list.append(item[\"name\"])\n",
    "        return food_list"
   ]
  },
  {
   "cell_type": "code",
   "execution_count": 158,
   "id": "25a4dbef",
   "metadata": {},
   "outputs": [],
   "source": [
    "menu = [\n",
    "        {\"name\": \"Coffee\", \"type\": \"Drink\", \"price\": 2.5},\n",
    "        {\"name\": \"Tea\", \"type\": \"Drink\", \"price\": 2.0},\n",
    "        {\"name\": \"Sandwich\", \"type\": \"Food\", \"price\": 3.0},\n",
    "        {\"name\": \"Croissant\", \"type\": \"Food\", \"price\": 1.5},\n",
    "    ]\n"
   ]
  },
  {
   "cell_type": "code",
   "execution_count": 159,
   "id": "7e1a0630",
   "metadata": {},
   "outputs": [],
   "source": [
    "shop = CoffeeShop(\"Cafe Test\",menu)"
   ]
  },
  {
   "cell_type": "code",
   "execution_count": 160,
   "id": "3a39d948",
   "metadata": {},
   "outputs": [],
   "source": [
    "result = shop.add_order(\"Coffee\")"
   ]
  },
  {
   "cell_type": "code",
   "execution_count": 161,
   "id": "420fea9b",
   "metadata": {},
   "outputs": [
    {
     "name": "stdout",
     "output_type": "stream",
     "text": [
      "this item Coffee has been added to your list of orders\n"
     ]
    }
   ],
   "source": [
    "print(result)"
   ]
  },
  {
   "cell_type": "code",
   "execution_count": 162,
   "id": "6ff5dda1",
   "metadata": {},
   "outputs": [
    {
     "name": "stdout",
     "output_type": "stream",
     "text": [
      "This item is currently unavailable!\n"
     ]
    }
   ],
   "source": [
    "print(shop.add_order(\"Burger\"))"
   ]
  },
  {
   "cell_type": "code",
   "execution_count": 163,
   "id": "07964e3f",
   "metadata": {},
   "outputs": [
    {
     "name": "stdout",
     "output_type": "stream",
     "text": [
      "The Coffee is ready!\n"
     ]
    }
   ],
   "source": [
    "print(shop.fulfill_order())"
   ]
  },
  {
   "cell_type": "code",
   "execution_count": 164,
   "id": "a697aaa5",
   "metadata": {},
   "outputs": [
    {
     "name": "stdout",
     "output_type": "stream",
     "text": [
      "All orders have been fulfilled!\n"
     ]
    }
   ],
   "source": [
    "print(shop.fulfill_order())"
   ]
  },
  {
   "cell_type": "code",
   "execution_count": 165,
   "id": "d72979ab",
   "metadata": {},
   "outputs": [
    {
     "name": "stdout",
     "output_type": "stream",
     "text": [
      "['Coffee']\n"
     ]
    }
   ],
   "source": [
    "shop.add_order(\"Tea\")\n",
    "print(shop.list_orders())"
   ]
  },
  {
   "cell_type": "code",
   "execution_count": 166,
   "id": "80b9d3df",
   "metadata": {},
   "outputs": [
    {
     "name": "stdout",
     "output_type": "stream",
     "text": [
      "2.5\n"
     ]
    }
   ],
   "source": [
    "result = shop.due_amount()\n",
    "print(result)"
   ]
  },
  {
   "cell_type": "code",
   "execution_count": 167,
   "id": "1b5925b1",
   "metadata": {},
   "outputs": [
    {
     "name": "stdout",
     "output_type": "stream",
     "text": [
      "Croissant\n"
     ]
    }
   ],
   "source": [
    "print(shop.cheapest_item())"
   ]
  },
  {
   "cell_type": "code",
   "execution_count": 155,
   "id": "5d5df9cb",
   "metadata": {},
   "outputs": [
    {
     "name": "stdout",
     "output_type": "stream",
     "text": [
      "['Coffee', 'Tea']\n"
     ]
    }
   ],
   "source": [
    "print(shop.drinks_only())"
   ]
  },
  {
   "cell_type": "code",
   "execution_count": 156,
   "id": "4d5f0d71",
   "metadata": {},
   "outputs": [
    {
     "name": "stdout",
     "output_type": "stream",
     "text": [
      "['Sandwich', 'Croissant']\n"
     ]
    }
   ],
   "source": [
    "print(shop.food_only())"
   ]
  },
  {
   "cell_type": "code",
   "execution_count": null,
   "id": "d13c1a57",
   "metadata": {},
   "outputs": [],
   "source": []
  }
 ],
 "metadata": {
  "kernelspec": {
   "display_name": "Python 3 (ipykernel)",
   "language": "python",
   "name": "python3"
  },
  "language_info": {
   "codemirror_mode": {
    "name": "ipython",
    "version": 3
   },
   "file_extension": ".py",
   "mimetype": "text/x-python",
   "name": "python",
   "nbconvert_exporter": "python",
   "pygments_lexer": "ipython3",
   "version": "3.9.13"
  }
 },
 "nbformat": 4,
 "nbformat_minor": 5
}
